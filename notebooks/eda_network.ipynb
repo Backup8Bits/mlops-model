{
 "cells": [
  {
   "cell_type": "markdown",
   "metadata": {},
   "source": [
    "# EDA for network dataframe: Traffic Data from Kyoto University's Honeypots"
   ]
  },
  {
   "cell_type": "markdown",
   "metadata": {},
   "source": [
    "## Load libreraries"
   ]
  },
  {
   "cell_type": "code",
   "execution_count": 1,
   "metadata": {},
   "outputs": [],
   "source": [
    "import pandas as pd\n",
    "from ydata_profiling import ProfileReport"
   ]
  },
  {
   "cell_type": "markdown",
   "metadata": {},
   "source": [
    "### Reading and working with data"
   ]
  },
  {
   "cell_type": "code",
   "execution_count": 2,
   "metadata": {},
   "outputs": [],
   "source": [
    "# Variables to data\n",
    "FOLDER_RAW:str = '../data/raw/'\n",
    "YEAR:int = 2007\n",
    "MONTH:int = 1\n",
    "DAY:int = 1"
   ]
  },
  {
   "cell_type": "code",
   "execution_count": 3,
   "metadata": {},
   "outputs": [
    {
     "name": "stderr",
     "output_type": "stream",
     "text": [
      "/tmp/ipykernel_518888/1384986227.py:30: DtypeWarning: Columns (15) have mixed types. Specify dtype option on import or set low_memory=False.\n",
      "  df = pd.read_csv(path, sep='\\t', header=None)\n"
     ]
    },
    {
     "data": {
      "text/html": [
       "<div>\n",
       "<style scoped>\n",
       "    .dataframe tbody tr th:only-of-type {\n",
       "        vertical-align: middle;\n",
       "    }\n",
       "\n",
       "    .dataframe tbody tr th {\n",
       "        vertical-align: top;\n",
       "    }\n",
       "\n",
       "    .dataframe thead th {\n",
       "        text-align: right;\n",
       "    }\n",
       "</style>\n",
       "<table border=\"1\" class=\"dataframe\">\n",
       "  <thead>\n",
       "    <tr style=\"text-align: right;\">\n",
       "      <th></th>\n",
       "      <th>duration</th>\n",
       "      <th>service</th>\n",
       "      <th>source_bytes</th>\n",
       "      <th>destination_bytes</th>\n",
       "      <th>count</th>\n",
       "      <th>same_srv_rate</th>\n",
       "      <th>serror_rate</th>\n",
       "      <th>srv_serror_rate</th>\n",
       "      <th>dst_host_count</th>\n",
       "      <th>dst_host_srv_count</th>\n",
       "      <th>dst_host_same_srv_rate</th>\n",
       "      <th>dst_host_same_src_port_rate</th>\n",
       "      <th>dst_host_serror_rate</th>\n",
       "      <th>dst_host_srv_serror_rate</th>\n",
       "      <th>flag</th>\n",
       "      <th>ids_detection</th>\n",
       "      <th>malware_detection</th>\n",
       "      <th>ashula_detection</th>\n",
       "      <th>labelsource_ip_address</th>\n",
       "      <th>source_port_number</th>\n",
       "      <th>destination_ip_address</th>\n",
       "      <th>destination_port_number</th>\n",
       "      <th>start_time</th>\n",
       "      <th>protocol</th>\n",
       "    </tr>\n",
       "  </thead>\n",
       "  <tbody>\n",
       "    <tr>\n",
       "      <th>0</th>\n",
       "      <td>86364.573924</td>\n",
       "      <td>other</td>\n",
       "      <td>240680</td>\n",
       "      <td>0</td>\n",
       "      <td>0</td>\n",
       "      <td>0.0</td>\n",
       "      <td>0.0</td>\n",
       "      <td>0.0</td>\n",
       "      <td>0</td>\n",
       "      <td>0</td>\n",
       "      <td>0.0</td>\n",
       "      <td>0.0</td>\n",
       "      <td>0.0</td>\n",
       "      <td>S0</td>\n",
       "      <td>0</td>\n",
       "      <td>0</td>\n",
       "      <td>0</td>\n",
       "      <td>-1</td>\n",
       "      <td>fda2:69aa:1f1a:2d57:7da5:27fc:07e8:2808</td>\n",
       "      <td>32770</td>\n",
       "      <td>fda2:69aa:1f1a:425e:1046:01b0:02d4:2adb</td>\n",
       "      <td>8649</td>\n",
       "      <td>00:00:18</td>\n",
       "      <td>udp</td>\n",
       "    </tr>\n",
       "    <tr>\n",
       "      <th>1</th>\n",
       "      <td>0.000000</td>\n",
       "      <td>other</td>\n",
       "      <td>0</td>\n",
       "      <td>0</td>\n",
       "      <td>0</td>\n",
       "      <td>0.0</td>\n",
       "      <td>0.0</td>\n",
       "      <td>0.0</td>\n",
       "      <td>0</td>\n",
       "      <td>0</td>\n",
       "      <td>0.0</td>\n",
       "      <td>0.0</td>\n",
       "      <td>0.0</td>\n",
       "      <td>S0</td>\n",
       "      <td>0</td>\n",
       "      <td>0</td>\n",
       "      <td>60(2)</td>\n",
       "      <td>-2</td>\n",
       "      <td>fda2:69aa:1f1a:509a:0b19:590a:0528:2375</td>\n",
       "      <td>1050</td>\n",
       "      <td>fda2:69aa:1f1a:f505:7df6:2782:60e4:44d6</td>\n",
       "      <td>1434</td>\n",
       "      <td>00:00:27</td>\n",
       "      <td>udp</td>\n",
       "    </tr>\n",
       "    <tr>\n",
       "      <th>2</th>\n",
       "      <td>0.003340</td>\n",
       "      <td>other</td>\n",
       "      <td>48</td>\n",
       "      <td>48</td>\n",
       "      <td>0</td>\n",
       "      <td>0.0</td>\n",
       "      <td>0.0</td>\n",
       "      <td>0.0</td>\n",
       "      <td>0</td>\n",
       "      <td>0</td>\n",
       "      <td>0.0</td>\n",
       "      <td>0.0</td>\n",
       "      <td>0.0</td>\n",
       "      <td>SF</td>\n",
       "      <td>0</td>\n",
       "      <td>0</td>\n",
       "      <td>0</td>\n",
       "      <td>-1</td>\n",
       "      <td>fda2:69aa:1f1a:232a:7a25:0083:5f86:3cc0</td>\n",
       "      <td>123</td>\n",
       "      <td>fda2:69aa:1f1a:f820:7d99:2701:0ff4:1570</td>\n",
       "      <td>123</td>\n",
       "      <td>00:00:53</td>\n",
       "      <td>udp</td>\n",
       "    </tr>\n",
       "    <tr>\n",
       "      <th>3</th>\n",
       "      <td>0.000000</td>\n",
       "      <td>other</td>\n",
       "      <td>0</td>\n",
       "      <td>0</td>\n",
       "      <td>0</td>\n",
       "      <td>0.0</td>\n",
       "      <td>0.0</td>\n",
       "      <td>0.0</td>\n",
       "      <td>0</td>\n",
       "      <td>0</td>\n",
       "      <td>0.0</td>\n",
       "      <td>0.0</td>\n",
       "      <td>0.0</td>\n",
       "      <td>S0</td>\n",
       "      <td>0</td>\n",
       "      <td>0</td>\n",
       "      <td>0</td>\n",
       "      <td>-1</td>\n",
       "      <td>fda2:69aa:1f1a:a757:7d73:278f:61f1:0f3f</td>\n",
       "      <td>138</td>\n",
       "      <td>fda2:69aa:1f1a:1499:7d6b:27b7:6172:002c</td>\n",
       "      <td>138</td>\n",
       "      <td>00:00:57</td>\n",
       "      <td>udp</td>\n",
       "    </tr>\n",
       "    <tr>\n",
       "      <th>4</th>\n",
       "      <td>0.311797</td>\n",
       "      <td>other</td>\n",
       "      <td>0</td>\n",
       "      <td>0</td>\n",
       "      <td>0</td>\n",
       "      <td>0.0</td>\n",
       "      <td>0.0</td>\n",
       "      <td>0.0</td>\n",
       "      <td>0</td>\n",
       "      <td>0</td>\n",
       "      <td>0.0</td>\n",
       "      <td>0.0</td>\n",
       "      <td>0.0</td>\n",
       "      <td>RSTO</td>\n",
       "      <td>0</td>\n",
       "      <td>0</td>\n",
       "      <td>0</td>\n",
       "      <td>-1</td>\n",
       "      <td>fda2:69aa:1f1a:9113:3c52:037e:52b3:2742</td>\n",
       "      <td>11810</td>\n",
       "      <td>fda2:69aa:1f1a:ec01:7d38:2763:0f17:1b37</td>\n",
       "      <td>139</td>\n",
       "      <td>00:01:17</td>\n",
       "      <td>tcp</td>\n",
       "    </tr>\n",
       "  </tbody>\n",
       "</table>\n",
       "</div>"
      ],
      "text/plain": [
       "       duration service  source_bytes  destination_bytes  count  \\\n",
       "0  86364.573924   other        240680                  0      0   \n",
       "1      0.000000   other             0                  0      0   \n",
       "2      0.003340   other            48                 48      0   \n",
       "3      0.000000   other             0                  0      0   \n",
       "4      0.311797   other             0                  0      0   \n",
       "\n",
       "   same_srv_rate  serror_rate  srv_serror_rate  dst_host_count  \\\n",
       "0            0.0          0.0              0.0               0   \n",
       "1            0.0          0.0              0.0               0   \n",
       "2            0.0          0.0              0.0               0   \n",
       "3            0.0          0.0              0.0               0   \n",
       "4            0.0          0.0              0.0               0   \n",
       "\n",
       "   dst_host_srv_count  dst_host_same_srv_rate  dst_host_same_src_port_rate  \\\n",
       "0                   0                     0.0                          0.0   \n",
       "1                   0                     0.0                          0.0   \n",
       "2                   0                     0.0                          0.0   \n",
       "3                   0                     0.0                          0.0   \n",
       "4                   0                     0.0                          0.0   \n",
       "\n",
       "   dst_host_serror_rate dst_host_srv_serror_rate flag ids_detection  \\\n",
       "0                   0.0                       S0    0             0   \n",
       "1                   0.0                       S0    0             0   \n",
       "2                   0.0                       SF    0             0   \n",
       "3                   0.0                       S0    0             0   \n",
       "4                   0.0                     RSTO    0             0   \n",
       "\n",
       "  malware_detection  ashula_detection  \\\n",
       "0                 0                -1   \n",
       "1             60(2)                -2   \n",
       "2                 0                -1   \n",
       "3                 0                -1   \n",
       "4                 0                -1   \n",
       "\n",
       "                    labelsource_ip_address  source_port_number  \\\n",
       "0  fda2:69aa:1f1a:2d57:7da5:27fc:07e8:2808               32770   \n",
       "1  fda2:69aa:1f1a:509a:0b19:590a:0528:2375                1050   \n",
       "2  fda2:69aa:1f1a:232a:7a25:0083:5f86:3cc0                 123   \n",
       "3  fda2:69aa:1f1a:a757:7d73:278f:61f1:0f3f                 138   \n",
       "4  fda2:69aa:1f1a:9113:3c52:037e:52b3:2742               11810   \n",
       "\n",
       "                    destination_ip_address  destination_port_number  \\\n",
       "0  fda2:69aa:1f1a:425e:1046:01b0:02d4:2adb                     8649   \n",
       "1  fda2:69aa:1f1a:f505:7df6:2782:60e4:44d6                     1434   \n",
       "2  fda2:69aa:1f1a:f820:7d99:2701:0ff4:1570                      123   \n",
       "3  fda2:69aa:1f1a:1499:7d6b:27b7:6172:002c                      138   \n",
       "4  fda2:69aa:1f1a:ec01:7d38:2763:0f17:1b37                      139   \n",
       "\n",
       "  start_time protocol  \n",
       "0   00:00:18      udp  \n",
       "1   00:00:27      udp  \n",
       "2   00:00:53      udp  \n",
       "3   00:00:57      udp  \n",
       "4   00:01:17      tcp  "
      ]
     },
     "metadata": {},
     "output_type": "display_data"
    }
   ],
   "source": [
    "# Load dataset\n",
    "path: str = f\"{FOLDER_RAW}{YEAR:04d}/{MONTH:02d}/{YEAR:04d}{MONTH:02d}{DAY:02d}.txt\"\n",
    "headers = [\n",
    "    \"duration\",\n",
    "    \"service\",\n",
    "    \"source_bytes\",\n",
    "    \"destination_bytes\",\n",
    "    \"count\",\n",
    "    \"same_srv_rate\",\n",
    "    \"serror_rate\",\n",
    "    \"srv_serror_rate\",\n",
    "    \"dst_host_count\",\n",
    "    \"dst_host_srv_count\",\n",
    "    \"dst_host_same_srv_rate\",\n",
    "    \"dst_host_same_src_port_rate\",\n",
    "    \"dst_host_serror_rate\",\n",
    "    \"dst_host_srv_serror_rate\",\n",
    "    \"flag\",\n",
    "    \"ids_detection\",\n",
    "    \"malware_detection\",\n",
    "    \"ashula_detection\",\n",
    "    \"label\"\n",
    "    \"source_ip_address\",\n",
    "    \"source_port_number\",\n",
    "    \"destination_ip_address\",\n",
    "    \"destination_port_number\",\n",
    "    \"start_time\",\n",
    "    \"protocol\",\n",
    "]\n",
    "df = pd.read_csv(path, sep='\\t', header=None)\n",
    "df.columns = headers\n",
    "# print(len(headers), len(df.columns))\n",
    "\n",
    "with pd.option_context(\n",
    "    'display.max_colwidth', None,\n",
    "    'display.max_columns', None,\n",
    "    'display.max_rows', None):\n",
    "    display(df.head())\n",
    "\n",
    "# Preclean data\n",
    "del df[\"ids_detection\"]"
   ]
  },
  {
   "cell_type": "markdown",
   "metadata": {},
   "source": [
    "### First steps with dataframe"
   ]
  },
  {
   "cell_type": "code",
   "execution_count": 4,
   "metadata": {},
   "outputs": [
    {
     "data": {
      "application/vnd.jupyter.widget-view+json": {
       "model_id": "d68708e5c4f94f37acba5561cd3044fa",
       "version_major": 2,
       "version_minor": 0
      },
      "text/plain": [
       "Summarize dataset:   0%|          | 0/5 [00:00<?, ?it/s]"
      ]
     },
     "metadata": {},
     "output_type": "display_data"
    },
    {
     "data": {
      "application/vnd.jupyter.widget-view+json": {
       "model_id": "3ff4b161d3eb4eb896466f0fed5790b2",
       "version_major": 2,
       "version_minor": 0
      },
      "text/plain": [
       "Generate report structure:   0%|          | 0/1 [00:00<?, ?it/s]"
      ]
     },
     "metadata": {},
     "output_type": "display_data"
    },
    {
     "data": {
      "application/vnd.jupyter.widget-view+json": {
       "model_id": "44e583c0ded54638ab622e8bc1d28b6b",
       "version_major": 2,
       "version_minor": 0
      },
      "text/plain": [
       "Render HTML:   0%|          | 0/1 [00:00<?, ?it/s]"
      ]
     },
     "metadata": {},
     "output_type": "display_data"
    }
   ],
   "source": [
    "profile = ProfileReport(\n",
    "    df, title='Dataset Network profiling', explorative=True\n",
    ")\n",
    "profile"
   ]
  },
  {
   "cell_type": "code",
   "execution_count": null,
   "metadata": {},
   "outputs": [],
   "source": [
    "df[\"ids_detection\"].unique()"
   ]
  }
 ],
 "metadata": {
  "kernelspec": {
   "display_name": "mlops-zoomcamp-tasks-LojREmu5",
   "language": "python",
   "name": "python3"
  },
  "language_info": {
   "codemirror_mode": {
    "name": "ipython",
    "version": 3
   },
   "file_extension": ".py",
   "mimetype": "text/x-python",
   "name": "python",
   "nbconvert_exporter": "python",
   "pygments_lexer": "ipython3",
   "version": "3.11.7"
  }
 },
 "nbformat": 4,
 "nbformat_minor": 2
}
